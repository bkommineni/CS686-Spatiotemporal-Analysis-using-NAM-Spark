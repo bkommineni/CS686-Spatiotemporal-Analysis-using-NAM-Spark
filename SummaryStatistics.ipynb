{
 "cells": [
  {
   "cell_type": "code",
   "execution_count": 42,
   "metadata": {},
   "outputs": [],
   "source": [
    "from pyspark.sql.types import StructType, StructField, FloatType, LongType, StringType\n",
    "from pyspark.shell import spark\n",
    "\n",
    "feats = []\n",
    "f = open('features.txt')\n",
    "for line_num, line in enumerate(f):\n",
    "    if line_num == 0:\n",
    "        # Timestamp\n",
    "        feats.append(StructField(line.strip(), LongType(), True))\n",
    "    elif line_num == 1:\n",
    "        # Geohash\n",
    "        feats.append(StructField(line.strip(), StringType(), True))\n",
    "    else:\n",
    "        # Other features\n",
    "        feats.append(StructField(line.strip(), FloatType(), True))\n",
    "    \n",
    "schema = StructType(feats)"
   ]
  },
  {
   "cell_type": "code",
   "execution_count": 43,
   "metadata": {},
   "outputs": [],
   "source": [
    "df = spark.read.format('csv').option('sep', '\\t').schema(schema).load('inputs/mini-sample.tdv.gz')"
   ]
  },
  {
   "cell_type": "code",
   "execution_count": 44,
   "metadata": {},
   "outputs": [
    {
     "data": {
      "text/plain": [
       "58"
      ]
     },
     "execution_count": 44,
     "metadata": {},
     "output_type": "execute_result"
    }
   ],
   "source": [
    "len(df.columns)"
   ]
  },
  {
   "cell_type": "code",
   "execution_count": 45,
   "metadata": {
    "collapsed": true
   },
   "outputs": [],
   "source": [
    "import pyspark.sql.functions as sf\n",
    "summary_values = []\n",
    "feature_names = []\n",
    "for i in range(2,len(df.columns)):\n",
    "    feature_names.append(df.columns[i])\n",
    "    summary_values.append(df.select(sf.max(df.columns[i]).alias(\"Max\"),\n",
    "              sf.min(df.columns[i]).alias(\"Min\"),\n",
    "              sf.avg(df.columns[i]).alias(\"Avg\"),\n",
    "              sf.stddev(df.columns[i]).alias(\"Std_Dev\")))"
   ]
  },
  {
   "cell_type": "code",
   "execution_count": 46,
   "metadata": {},
   "outputs": [],
   "source": [
    "f = open(\"summary_stats.txt\",\"w\")\n",
    "for i in range(0,len(feature_names)):\n",
    "    f.write(\"Feature: \" + feature_names[i] + \"\\n\")\n",
    "    df_summ = summary_values[i]\n",
    "    summ_values = df_summ.select(df_summ.Max,df_summ.Min,df_summ.Avg,df_summ.Std_Dev).collect()\n",
    "    f.write(\"Max: \" + (str)(summ_values[0].Max) + \"\\n\")\n",
    "    f.write(\"Min: \" + (str)(summ_values[0].Min) + \"\\n\")\n",
    "    f.write(\"Average: \" + (str)(summ_values[0].Avg) + \"\\n\")\n",
    "    f.write(\"Std.Dev: \" + (str)(summ_values[0].Std_Dev) + \"\\n\")\n",
    "    f.write(\"\\n\")\n",
    "f.close()"
   ]
  },
  {
   "cell_type": "code",
   "execution_count": null,
   "metadata": {
    "collapsed": true
   },
   "outputs": [],
   "source": [
    "#approximately 32 mins to run this job"
   ]
  }
 ],
 "metadata": {
  "kernelspec": {
   "display_name": "Python 3",
   "language": "python",
   "name": "python3"
  },
  "language_info": {
   "codemirror_mode": {
    "name": "ipython",
    "version": 3
   },
   "file_extension": ".py",
   "mimetype": "text/x-python",
   "name": "python",
   "nbconvert_exporter": "python",
   "pygments_lexer": "ipython3",
   "version": "3.6.3"
  }
 },
 "nbformat": 4,
 "nbformat_minor": 2
}
