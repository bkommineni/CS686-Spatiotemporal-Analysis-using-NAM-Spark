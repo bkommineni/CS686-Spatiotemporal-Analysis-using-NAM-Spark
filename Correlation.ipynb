{
 "cells": [
  {
   "cell_type": "code",
   "execution_count": 1,
   "metadata": {},
   "outputs": [
    {
     "name": "stdout",
     "output_type": "stream",
     "text": [
      "Welcome to\n",
      "      ____              __\n",
      "     / __/__  ___ _____/ /__\n",
      "    _\\ \\/ _ \\/ _ `/ __/  '_/\n",
      "   /__ / .__/\\_,_/_/ /_/\\_\\   version 2.2.0\n",
      "      /_/\n",
      "\n",
      "Using Python version 3.6.3 (default, Oct  6 2017 12:04:38)\n",
      "SparkSession available as 'spark'.\n"
     ]
    }
   ],
   "source": [
    "from pyspark.sql.types import StructType, StructField, FloatType, LongType, StringType\n",
    "from pyspark.shell import spark\n",
    "\n",
    "feats = []\n",
    "f = open('features.txt')\n",
    "for line_num, line in enumerate(f):\n",
    "    if line_num == 0:\n",
    "        # Timestamp\n",
    "        feats.append(StructField(line.strip(), LongType(), True))\n",
    "    elif line_num == 1:\n",
    "        # Geohash\n",
    "        feats.append(StructField(line.strip(), StringType(), True))\n",
    "    else:\n",
    "        # Other features\n",
    "        feats.append(StructField(line.strip(), FloatType(), True))\n",
    "    \n",
    "schema = StructType(feats)"
   ]
  },
  {
   "cell_type": "code",
   "execution_count": 2,
   "metadata": {
    "collapsed": true
   },
   "outputs": [],
   "source": [
    "df = spark.read.format('csv').option('sep', '\\t').schema(schema).load('inputs/mini-sample.tdv.gz')"
   ]
  },
  {
   "cell_type": "code",
   "execution_count": 3,
   "metadata": {
    "collapsed": true
   },
   "outputs": [],
   "source": [
    "col_names = []\n",
    "for i in range(2,len(df.columns)):\n",
    "    col_names.append(df.columns[i])"
   ]
  },
  {
   "cell_type": "code",
   "execution_count": 4,
   "metadata": {
    "collapsed": true
   },
   "outputs": [],
   "source": [
    "from pyspark.ml.stat import Correlation\n",
    "from pyspark.ml.feature import VectorAssembler\n",
    "vectorAssembler = VectorAssembler(inputCols=col_names,\n",
    "                                  outputCol=\"features\")\n",
    "trans_features = vectorAssembler.transform(df)\n",
    "coeff = Correlation.corr(trans_features,'features',method='pearson').collect()[0][0]"
   ]
  },
  {
   "cell_type": "code",
   "execution_count": 5,
   "metadata": {
    "collapsed": true
   },
   "outputs": [],
   "source": [
    "mtrx = coeff.toArray()"
   ]
  },
  {
   "cell_type": "code",
   "execution_count": 6,
   "metadata": {
    "collapsed": true
   },
   "outputs": [],
   "source": [
    "import numpy as np\n",
    "np.savetxt('./heatmap-generation/correlation_matrix.txt', mtrx)"
   ]
  },
  {
   "cell_type": "code",
   "execution_count": 10,
   "metadata": {
    "collapsed": true
   },
   "outputs": [],
   "source": [
    "#2.5 min on mini sample data"
   ]
  },
  {
   "cell_type": "code",
   "execution_count": 13,
   "metadata": {
    "collapsed": true
   },
   "outputs": [],
   "source": [
    "list_corr_pairs_coeffs = []\n",
    "feature_pairs = []\n",
    "\n",
    "for i in range(0,56):\n",
    "    for j in range(0,56):\n",
    "        \n",
    "        if (i != j) and not(((col_names[i]+\"_\"+col_names[j]) in feature_pairs) or\n",
    "                         ((col_names[j]+\"_\"+col_names[i]) in feature_pairs)):\n",
    "            feature_pairs.append(col_names[i] +\"_\"+col_names[j])\n",
    "            corr_pair_coeff = []\n",
    "            corr_pair_coeff.append(col_names[i]+\" , \"+col_names[j])\n",
    "            corr_pair_coeff.append(col_names[i])\n",
    "            corr_pair_coeff.append(col_names[j])\n",
    "            corr_pair_coeff.append(float(mtrx[i][j]))\n",
    "            list_corr_pairs_coeffs.append(tuple(corr_pair_coeff))"
   ]
  },
  {
   "cell_type": "code",
   "execution_count": 14,
   "metadata": {},
   "outputs": [],
   "source": [
    "df_corr_coeff_col_names = []\n",
    "df_corr_coeff_col_names.append(StructField(\"Feature_Pair\", StringType(), True))\n",
    "df_corr_coeff_col_names.append(StructField(\"Feature1\", StringType(), True))\n",
    "df_corr_coeff_col_names.append(StructField(\"Feature2\", StringType(), True))\n",
    "df_corr_coeff_col_names.append(StructField(\"Pearson_Coeff\", FloatType(), True))\n",
    "df_corr_coeff = spark.createDataFrame(list_corr_pairs_coeffs,StructType(df_corr_coeff_col_names))\n",
    "sort_coeff_df = df_corr_coeff.sort(df_corr_coeff.Pearson_Coeff.desc())"
   ]
  },
  {
   "cell_type": "code",
   "execution_count": 15,
   "metadata": {},
   "outputs": [],
   "source": [
    "f = open(\"Feature_pair_sorted_coeff.txt\",\"w\")\n",
    "sort_coeff_df_list = sort_coeff_df.collect()\n",
    "for i in range(0,len(sort_coeff_df_list)):\n",
    "    f.write(sort_coeff_df_list[i].Feature_Pair + \" \" + (str)(sort_coeff_df_list[i].Pearson_Coeff))\n",
    "    f.write(\"\\n\")\n",
    "f.close()"
   ]
  },
  {
   "cell_type": "code",
   "execution_count": null,
   "metadata": {
    "collapsed": true
   },
   "outputs": [],
   "source": []
  },
  {
   "cell_type": "code",
   "execution_count": null,
   "metadata": {
    "collapsed": true
   },
   "outputs": [],
   "source": []
  }
 ],
 "metadata": {
  "kernelspec": {
   "display_name": "Python 3",
   "language": "python",
   "name": "python3"
  },
  "language_info": {
   "codemirror_mode": {
    "name": "ipython",
    "version": 3
   },
   "file_extension": ".py",
   "mimetype": "text/x-python",
   "name": "python",
   "nbconvert_exporter": "python",
   "pygments_lexer": "ipython3",
   "version": "3.6.3"
  }
 },
 "nbformat": 4,
 "nbformat_minor": 2
}
