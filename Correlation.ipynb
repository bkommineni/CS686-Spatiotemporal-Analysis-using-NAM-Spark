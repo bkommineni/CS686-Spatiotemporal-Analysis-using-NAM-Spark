{
 "cells": [
  {
   "cell_type": "code",
   "execution_count": 22,
   "metadata": {},
   "outputs": [],
   "source": [
    "from pyspark.sql.types import StructType, StructField, FloatType, LongType, StringType\n",
    "from pyspark.shell import spark\n",
    "\n",
    "feats = []\n",
    "f = open('features.txt')\n",
    "for line_num, line in enumerate(f):\n",
    "    if line_num == 0:\n",
    "        # Timestamp\n",
    "        feats.append(StructField(line.strip(), LongType(), True))\n",
    "    elif line_num == 1:\n",
    "        # Geohash\n",
    "        feats.append(StructField(line.strip(), StringType(), True))\n",
    "    else:\n",
    "        # Other features\n",
    "        feats.append(StructField(line.strip(), FloatType(), True))\n",
    "    \n",
    "schema = StructType(feats)"
   ]
  },
  {
   "cell_type": "code",
   "execution_count": 23,
   "metadata": {
    "collapsed": true
   },
   "outputs": [],
   "source": [
    "df = spark.read.format('csv').option('sep', '\\t').schema(schema).load('inputs/mini-sample.tdv.gz')"
   ]
  },
  {
   "cell_type": "code",
   "execution_count": 24,
   "metadata": {},
   "outputs": [],
   "source": [
    "col_names = []\n",
    "for i in range(2,len(df.columns)):\n",
    "    col_names.append(df.columns[i])\n",
    "df_features = df.select(*col_names)\n",
    "rdd_df = df_features.rdd"
   ]
  },
  {
   "cell_type": "code",
   "execution_count": 25,
   "metadata": {},
   "outputs": [],
   "source": [
    "from pyspark.mllib.stat import Statistics\n",
    "coeff = Statistics.corr(rdd_df.map(list),method=\"pearson\")"
   ]
  },
  {
   "cell_type": "code",
   "execution_count": 26,
   "metadata": {},
   "outputs": [],
   "source": [
    "import numpy as np\n",
    "np.savetxt('./heatmap-generation/correlation_matrix.txt', coeff)"
   ]
  },
  {
   "cell_type": "code",
   "execution_count": 27,
   "metadata": {},
   "outputs": [],
   "source": [
    "#2.5 min on mini sample data"
   ]
  },
  {
   "cell_type": "code",
   "execution_count": 61,
   "metadata": {},
   "outputs": [],
   "source": [
    "list_corr_pairs_coeffs = []\n",
    "\n",
    "for i in range(0,56):\n",
    "    for j in range(0,56):\n",
    "        if (i != j):\n",
    "            corr_pair_coeff = []\n",
    "            corr_pair_coeff.append(col_names[i]+\" , \"+col_names[j])\n",
    "            corr_pair_coeff.append(float(coeff[i][j]))\n",
    "            list_corr_pairs_coeffs.append(tuple(corr_pair_coeff))"
   ]
  },
  {
   "cell_type": "code",
   "execution_count": 62,
   "metadata": {},
   "outputs": [],
   "source": [
    "df_corr_coeff_col_names = []\n",
    "df_corr_coeff_col_names.append(StructField(\"Feature_Pair\", StringType(), True))\n",
    "df_corr_coeff_col_names.append(StructField(\"Pearson_Coeff\", FloatType(), True))\n",
    "df_corr_coeff = spark.createDataFrame(list_corr_pairs_coeffs,StructType(df_corr_coeff_col_names))\n",
    "sort_coeff_df = df_corr_coeff.sort(df_corr_coeff.Pearson_Coeff.desc())"
   ]
  },
  {
   "cell_type": "code",
   "execution_count": 63,
   "metadata": {},
   "outputs": [],
   "source": [
    "f = open(\"Feature_pair_sorted_coeff.txt\",\"w\")\n",
    "sort_coeff_df_list = sort_coeff_df.collect()\n",
    "for i in range(0,len(sort_coeff_df_list)):\n",
    "    f.write(sort_coeff_df_list[i].Feature_Pair + \" \" + (str)(sort_coeff_df_list[i].Pearson_Coeff))\n",
    "    f.write(\"\\n\")\n",
    "f.close()"
   ]
  },
  {
   "cell_type": "code",
   "execution_count": null,
   "metadata": {
    "collapsed": true
   },
   "outputs": [],
   "source": []
  },
  {
   "cell_type": "code",
   "execution_count": null,
   "metadata": {
    "collapsed": true
   },
   "outputs": [],
   "source": []
  }
 ],
 "metadata": {
  "kernelspec": {
   "display_name": "Python 3",
   "language": "python",
   "name": "python3"
  },
  "language_info": {
   "codemirror_mode": {
    "name": "ipython",
    "version": 3
   },
   "file_extension": ".py",
   "mimetype": "text/x-python",
   "name": "python",
   "nbconvert_exporter": "python",
   "pygments_lexer": "ipython3",
   "version": "3.6.3"
  }
 },
 "nbformat": 4,
 "nbformat_minor": 2
}
