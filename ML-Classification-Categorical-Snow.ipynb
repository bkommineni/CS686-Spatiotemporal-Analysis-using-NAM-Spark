{
 "cells": [
  {
   "cell_type": "code",
   "execution_count": 1,
   "metadata": {},
   "outputs": [
    {
     "name": "stdout",
     "output_type": "stream",
     "text": [
      "Welcome to\n",
      "      ____              __\n",
      "     / __/__  ___ _____/ /__\n",
      "    _\\ \\/ _ \\/ _ `/ __/  '_/\n",
      "   /__ / .__/\\_,_/_/ /_/\\_\\   version 2.2.0\n",
      "      /_/\n",
      "\n",
      "Using Python version 3.6.3 (default, Oct  6 2017 12:04:38)\n",
      "SparkSession available as 'spark'.\n"
     ]
    }
   ],
   "source": [
    "from pyspark.sql.types import StructType, StructField, FloatType, LongType, StringType\n",
    "from pyspark.shell import spark\n",
    "\n",
    "feats = []\n",
    "f = open('features.txt')\n",
    "for line_num, line in enumerate(f):\n",
    "    if line_num == 0:\n",
    "        # Timestamp\n",
    "        feats.append(StructField(line.strip(), LongType(), True))\n",
    "    elif line_num == 1:\n",
    "        # Geohash\n",
    "        feats.append(StructField(line.strip(), StringType(), True))\n",
    "    else:\n",
    "        # Other features\n",
    "        feats.append(StructField(line.strip(), FloatType(), True))\n",
    "    \n",
    "schema = StructType(feats)"
   ]
  },
  {
   "cell_type": "code",
   "execution_count": 2,
   "metadata": {
    "collapsed": true
   },
   "outputs": [],
   "source": [
    "df = spark.read.format('csv').option('sep', '\\t').schema(schema).load('inputs/mini-sample.tdv.gz')"
   ]
  },
  {
   "cell_type": "code",
   "execution_count": 5,
   "metadata": {
    "collapsed": true
   },
   "outputs": [],
   "source": [
    "col_names = []\n",
    "for i in range(2,len(df.columns)):\n",
    "    col_names.append(df.columns[i])"
   ]
  },
  {
   "cell_type": "code",
   "execution_count": 39,
   "metadata": {
    "collapsed": true
   },
   "outputs": [],
   "source": [
    "from pyspark.ml.stat import Correlation\n",
    "from pyspark.ml.feature import VectorAssembler\n",
    "vectorAssembler = VectorAssembler(inputCols=col_names,\n",
    "                                  outputCol=\"features\")\n",
    "trans_features = vectorAssembler.transform(df)\n",
    "coeff = Correlation.corr(trans_features,'features',method='pearson').collect()[0][0]"
   ]
  },
  {
   "cell_type": "code",
   "execution_count": 43,
   "metadata": {
    "collapsed": true
   },
   "outputs": [],
   "source": [
    "mtrx = coeff.toArray()"
   ]
  },
  {
   "cell_type": "code",
   "execution_count": 44,
   "metadata": {
    "collapsed": true
   },
   "outputs": [],
   "source": [
    "list_corr_pairs_coeffs = []\n",
    "feature_pairs = []\n",
    "\n",
    "for i in range(0,56):\n",
    "    for j in range(0,56):\n",
    "        \n",
    "        if (i != j) and not(((col_names[i]+\"_\"+col_names[j]) in feature_pairs) or\n",
    "                         ((col_names[j]+\"_\"+col_names[i]) in feature_pairs)):\n",
    "            feature_pairs.append(col_names[i] +\"_\"+col_names[j])\n",
    "            corr_pair_coeff = []\n",
    "            corr_pair_coeff.append(col_names[i]+\" , \"+col_names[j])\n",
    "            corr_pair_coeff.append(col_names[i])\n",
    "            corr_pair_coeff.append(col_names[j])\n",
    "            corr_pair_coeff.append(float(mtrx[i][j]))\n",
    "            list_corr_pairs_coeffs.append(tuple(corr_pair_coeff))"
   ]
  },
  {
   "cell_type": "code",
   "execution_count": 45,
   "metadata": {
    "collapsed": true
   },
   "outputs": [],
   "source": [
    "df_corr_coeff_col_names = []\n",
    "df_corr_coeff_col_names.append(StructField(\"Feature_Pair\", StringType(), True))\n",
    "df_corr_coeff_col_names.append(StructField(\"Feature1\", StringType(), True))\n",
    "df_corr_coeff_col_names.append(StructField(\"Feature2\", StringType(), True))\n",
    "df_corr_coeff_col_names.append(StructField(\"Pearson_Coeff\", FloatType(), True))\n",
    "df_corr_coeff = spark.createDataFrame(list_corr_pairs_coeffs,StructType(df_corr_coeff_col_names))"
   ]
  },
  {
   "cell_type": "code",
   "execution_count": 46,
   "metadata": {},
   "outputs": [
    {
     "name": "stdout",
     "output_type": "stream",
     "text": [
      "+--------------------+--------------------+--------------------+-------------+\n",
      "|        Feature_Pair|            Feature1|            Feature2|Pearson_Coeff|\n",
      "+--------------------+--------------------+--------------------+-------------+\n",
      "|upward_long_wave_...|upward_long_wave_...| temperature_surface|    0.9507364|\n",
      "|geopotential_heig...|geopotential_heig...| temperature_surface|   0.88414276|\n",
      "|downward_long_wav...|downward_long_wav...| temperature_surface|   0.83087575|\n",
      "|geopotential_heig...|geopotential_heig...| temperature_surface|    0.8231031|\n",
      "|temperature_surfa...| temperature_surface|precipitable_wate...|     0.708688|\n",
      "|temperature_surfa...| temperature_surface|convective_availa...|    0.4671096|\n",
      "|temperature_surfa...| temperature_surface|geopotential_heig...|   0.37617406|\n",
      "|temperature_surfa...| temperature_surface|downward_short_wa...|   0.34058186|\n",
      "|visibility_surfac...|  visibility_surface| temperature_surface|   0.28188124|\n",
      "|pressure_surface ...|    pressure_surface| temperature_surface|   0.20792589|\n",
      "|geopotential_heig...|geopotential_heig...| temperature_surface|  0.117955595|\n",
      "|lightning_surface...|   lightning_surface| temperature_surface|   0.11171691|\n",
      "|vegetation_surfac...|  vegetation_surface| temperature_surface|   0.09736003|\n",
      "|temperature_surfa...| temperature_surface|v-component_of_wi...|   0.08873683|\n",
      "|upward_short_wave...|upward_short_wave...| temperature_surface|   0.08651417|\n",
      "|v-component_of_wi...|v-component_of_wi...| temperature_surface|   0.07520971|\n",
      "|categorical_rain_...|categorical_rain_...| temperature_surface|   0.05293761|\n",
      "|temperature_surfa...| temperature_surface|latent_heat_net_f...|  0.012255301|\n",
      "|sensible_heat_net...|sensible_heat_net...| temperature_surface|  0.011762388|\n",
      "|drag_coefficient_...|drag_coefficient_...| temperature_surface|   0.00251122|\n",
      "+--------------------+--------------------+--------------------+-------------+\n",
      "only showing top 20 rows\n",
      "\n"
     ]
    }
   ],
   "source": [
    "df_corr_coeff.where((df_corr_coeff.Feature1 == 'temperature_surface') | \n",
    "                    (df_corr_coeff.Feature2 == 'temperature_surface')).sort(df_corr_coeff.Pearson_Coeff.desc()).show()"
   ]
  },
  {
   "cell_type": "code",
   "execution_count": 47,
   "metadata": {},
   "outputs": [
    {
     "name": "stdout",
     "output_type": "stream",
     "text": [
      "+--------------------+--------------------+--------------------+-------------+\n",
      "|        Feature_Pair|            Feature1|            Feature2|Pearson_Coeff|\n",
      "+--------------------+--------------------+--------------------+-------------+\n",
      "|categorical_snow_...|categorical_snow_...|  snow_cover_surface|   0.30012408|\n",
      "|categorical_snow_...|categorical_snow_...|maximumcomposite_...|    0.2645679|\n",
      "|categorical_snow_...|categorical_snow_...|  snow_depth_surface|    0.2408605|\n",
      "|categorical_snow_...|categorical_snow_...|      albedo_surface|    0.2254173|\n",
      "|water_equiv_of_ac...|water_equiv_of_ac...|categorical_snow_...|    0.2251549|\n",
      "|categorical_snow_...|categorical_snow_...| pressure_tropopause|    0.2167491|\n",
      "|relative_humidity...|relative_humidity...|categorical_snow_...|   0.18254393|\n",
      "|categorical_snow_...|categorical_snow_...|friction_velocity...|   0.17027378|\n",
      "|categorical_snow_...|categorical_snow_...|temperature_tropo...|   0.16374761|\n",
      "|categorical_snow_...|categorical_snow_...|plant_canopy_surf...|  0.124861635|\n",
      "|number_of_soil_la...|number_of_soil_la...|categorical_snow_...|   0.11009545|\n",
      "|categorical_snow_...|categorical_snow_...|land_cover_land1_...|  0.103146575|\n",
      "|categorical_snow_...|categorical_snow_...|soil_porosity_sur...|  0.103146575|\n",
      "|categorical_snow_...|categorical_snow_...|surface_wind_gust...|  0.098745205|\n",
      "|categorical_snow_...|categorical_snow_...|transpiration_str...|   0.09675234|\n",
      "|categorical_snow_...|categorical_snow_...|geopotential_heig...|  0.094172865|\n",
      "|categorical_snow_...|categorical_snow_...|surface_roughness...|   0.08816603|\n",
      "|categorical_snow_...|categorical_snow_...|geopotential_heig...|   0.07994601|\n",
      "|categorical_snow_...|categorical_snow_...|v-component_of_wi...|   0.07057235|\n",
      "|categorical_snow_...|categorical_snow_...|soil_type_as_in_z...|   0.06916345|\n",
      "+--------------------+--------------------+--------------------+-------------+\n",
      "only showing top 20 rows\n",
      "\n"
     ]
    }
   ],
   "source": [
    "#categorical_snow_yes1_no0_surface\n",
    "df_corr_coeff.where((df_corr_coeff.Feature1 == 'categorical_snow_yes1_no0_surface') | \n",
    "                    (df_corr_coeff.Feature2 == 'categorical_snow_yes1_no0_surface')\n",
    "                   ).sort(df_corr_coeff.Pearson_Coeff.desc()).show()"
   ]
  },
  {
   "cell_type": "code",
   "execution_count": 48,
   "metadata": {},
   "outputs": [
    {
     "name": "stdout",
     "output_type": "stream",
     "text": [
      "+--------------------+--------------------+--------------------+-------------+\n",
      "|        Feature_Pair|            Feature1|            Feature2|Pearson_Coeff|\n",
      "+--------------------+--------------------+--------------------+-------------+\n",
      "|visibility_surfac...|  visibility_surface|categorical_snow_...|  -0.45647138|\n",
      "|categorical_snow_...|categorical_snow_...|geopotential_heig...|  -0.26098943|\n",
      "|categorical_snow_...|categorical_snow_...| temperature_surface|  -0.21268843|\n",
      "|categorical_snow_...|categorical_snow_...|upward_long_wave_...|   -0.2037285|\n",
      "|geopotential_heig...|geopotential_heig...|categorical_snow_...|  -0.19996537|\n",
      "|categorical_snow_...|categorical_snow_...|precipitable_wate...|  -0.15940763|\n",
      "|pressure_reduced_...|pressure_reduced_...|categorical_snow_...|  -0.13463028|\n",
      "|categorical_snow_...|categorical_snow_...|mean_sea_level_pr...| -0.122622825|\n",
      "|categorical_snow_...|categorical_snow_...|downward_long_wav...|  -0.11768969|\n",
      "|categorical_snow_...|categorical_snow_...|    pressure_surface|  -0.10548218|\n",
      "|categorical_snow_...|categorical_snow_...|convective_availa...|  -0.07774716|\n",
      "|categorical_snow_...|categorical_snow_...|downward_short_wa...|  -0.07093287|\n",
      "|categorical_snow_...|categorical_snow_...|  vegetation_surface|  -0.05607693|\n",
      "|categorical_snow_...|categorical_snow_...|categorical_rain_...| -0.052368812|\n",
      "|categorical_snow_...|categorical_snow_...|v-component_of_wi...| -0.019803138|\n",
      "|categorical_snow_...|categorical_snow_...|geopotential_heig...| -0.011431282|\n",
      "|categorical_snow_...|categorical_snow_...|latent_heat_net_f...|  -0.00841602|\n",
      "|sensible_heat_net...|sensible_heat_net...|categorical_snow_...| -0.008250166|\n",
      "|categorical_freez...|categorical_freez...|categorical_snow_...| -0.004402432|\n",
      "|upward_short_wave...|upward_short_wave...|categorical_snow_...| -0.003501976|\n",
      "+--------------------+--------------------+--------------------+-------------+\n",
      "only showing top 20 rows\n",
      "\n"
     ]
    }
   ],
   "source": [
    "df_corr_coeff.where((df_corr_coeff.Feature1 == 'categorical_snow_yes1_no0_surface') | \n",
    "                    (df_corr_coeff.Feature2 == 'categorical_snow_yes1_no0_surface')\n",
    "                   ).sort(df_corr_coeff.Pearson_Coeff.asc()).show()"
   ]
  },
  {
   "cell_type": "code",
   "execution_count": 49,
   "metadata": {},
   "outputs": [
    {
     "name": "stdout",
     "output_type": "stream",
     "text": [
      "+--------------------+--------------------+-------------------+-------------+\n",
      "|        Feature_Pair|            Feature1|           Feature2|Pearson_Coeff|\n",
      "+--------------------+--------------------+-------------------+-------------+\n",
      "|categorical_snow_...|categorical_snow_...|temperature_surface|  -0.21268843|\n",
      "+--------------------+--------------------+-------------------+-------------+\n",
      "\n"
     ]
    }
   ],
   "source": [
    "#snow_cover_surface\n",
    "#snow_depth_surface\n",
    "#visibility_surface\n",
    "\n",
    "df_corr_coeff.where(((df_corr_coeff.Feature1 == 'categorical_snow_yes1_no0_surface') & \n",
    "                    (df_corr_coeff.Feature2 == 'temperature_surface')) |\n",
    "                    ((df_corr_coeff.Feature2 == 'categorical_snow_yes1_no0_surface') & \n",
    "                    (df_corr_coeff.Feature1 == 'temperature_surface'))\n",
    "                   ).sort(df_corr_coeff.Pearson_Coeff.asc()).show()\n",
    "#temperature_surface"
   ]
  },
  {
   "cell_type": "code",
   "execution_count": 50,
   "metadata": {},
   "outputs": [
    {
     "name": "stdout",
     "output_type": "stream",
     "text": [
      "+--------------------+--------------------+--------------------+-------------+\n",
      "|        Feature_Pair|            Feature1|            Feature2|Pearson_Coeff|\n",
      "+--------------------+--------------------+--------------------+-------------+\n",
      "|categorical_snow_...|categorical_snow_...|precipitable_wate...|  -0.15940763|\n",
      "+--------------------+--------------------+--------------------+-------------+\n",
      "\n"
     ]
    }
   ],
   "source": [
    "df_corr_coeff.where(((df_corr_coeff.Feature1 == 'categorical_snow_yes1_no0_surface') & \n",
    "                    (df_corr_coeff.Feature2 == 'precipitable_water_entire_atmosphere')) |\n",
    "                    ((df_corr_coeff.Feature2 == 'categorical_snow_yes1_no0_surface') & \n",
    "                    (df_corr_coeff.Feature1 == 'precipitable_water_entire_atmosphere'))\n",
    "                   ).sort(df_corr_coeff.Pearson_Coeff.asc()).show()\n",
    "#precipitable_water_entire_atmosphere"
   ]
  },
  {
   "cell_type": "code",
   "execution_count": 51,
   "metadata": {
    "collapsed": true
   },
   "outputs": [],
   "source": [
    "#snow_cover_surface\n",
    "#snow_depth_surface\n",
    "#visibility_surface\n",
    "#temperature_surface\n",
    "#precipitable_water_entire_atmosphere"
   ]
  },
  {
   "cell_type": "code",
   "execution_count": 61,
   "metadata": {},
   "outputs": [
    {
     "name": "stdout",
     "output_type": "stream",
     "text": [
      "+--------------------+-----+\n",
      "|            features|label|\n",
      "+--------------------+-----+\n",
      "|[0.0,0.0,24221.20...|  0.0|\n",
      "|[100.0,0.01775999...|  0.0|\n",
      "|[100.0,0.05375999...|  0.0|\n",
      "|[0.0,0.0,22024.20...|  0.0|\n",
      "|[0.0,0.0,24222.64...|  0.0|\n",
      "|[100.0,0.90279996...|  0.0|\n",
      "|[0.0,0.0,24225.47...|  0.0|\n",
      "|[0.0,0.0,24225.27...|  0.0|\n",
      "|[0.0,0.0,24224.25...|  0.0|\n",
      "|[0.0,0.0,24225.79...|  0.0|\n",
      "|[0.0,0.0,21825.27...|  0.0|\n",
      "|[0.0,0.0,24222.57...|  0.0|\n",
      "|[100.0,0.00944000...|  0.0|\n",
      "|[0.0,0.0,24225.83...|  0.0|\n",
      "|[100.0,0.02439999...|  0.0|\n",
      "|[0.0,0.0,24224.25...|  0.0|\n",
      "|[0.0,0.0,24222.07...|  0.0|\n",
      "|[0.0,0.0,24224.07...|  0.0|\n",
      "|[0.0,0.0,24222.07...|  0.0|\n",
      "|[0.0,0.0,24223.87...|  0.0|\n",
      "+--------------------+-----+\n",
      "only showing top 20 rows\n",
      "\n"
     ]
    }
   ],
   "source": [
    "\n",
    "\n",
    "def prepare_data(dframe, predictors, target):\n",
    "    assembler = VectorAssembler(inputCols=predictors, outputCol=\"features\")\n",
    "    output = assembler.transform(dframe)\n",
    "    return output.select(\"features\", target).withColumnRenamed(target, \"label\")\n",
    "\n",
    "\n",
    "prepped = prepare_data(df,\n",
    "    [\"snow_cover_surface\", \n",
    "         \"snow_depth_surface\", \n",
    "         \"visibility_surface\", \n",
    "         \"temperature_surface\",\n",
    "         \"precipitable_water_entire_atmosphere\"],\n",
    "    \"categorical_snow_yes1_no0_surface\")\n",
    "\n",
    "prepped.show()\n",
    "(trainingData, testData) = prepped.randomSplit([0.9, 0.1])"
   ]
  },
  {
   "cell_type": "code",
   "execution_count": 67,
   "metadata": {
    "collapsed": true
   },
   "outputs": [],
   "source": [
    "from pyspark.ml.classification import RandomForestClassifier\n",
    "from pyspark.ml.evaluation import BinaryClassificationEvaluator\n",
    "\n",
    "rf = RandomForestClassifier(numTrees=3, maxDepth=2, labelCol=\"label\", seed=42)\n",
    "model = rf.fit(prepped)"
   ]
  },
  {
   "cell_type": "code",
   "execution_count": 68,
   "metadata": {},
   "outputs": [
    {
     "data": {
      "text/plain": [
       "SparseVector(5, {0: 0.075, 1: 0.0754, 2: 0.7194, 3: 0.1303})"
      ]
     },
     "execution_count": 68,
     "metadata": {},
     "output_type": "execute_result"
    }
   ],
   "source": [
    "model.featureImportances"
   ]
  },
  {
   "cell_type": "code",
   "execution_count": 72,
   "metadata": {},
   "outputs": [
    {
     "name": "stdout",
     "output_type": "stream",
     "text": [
      "+--------------------+\n",
      "|         probability|\n",
      "+--------------------+\n",
      "|[0.95664279808010...|\n",
      "|[0.75998844918654...|\n",
      "|[0.95664279808010...|\n",
      "|[0.95664279808010...|\n",
      "|[0.95664279808010...|\n",
      "+--------------------+\n",
      "only showing top 5 rows\n",
      "\n"
     ]
    }
   ],
   "source": [
    "predictions = model.transform(testData)\n",
    "predictions.select(predictions.probability).show(n=5)"
   ]
  },
  {
   "cell_type": "code",
   "execution_count": 74,
   "metadata": {},
   "outputs": [
    {
     "name": "stdout",
     "output_type": "stream",
     "text": [
      "+--------------------+-----+--------------------+--------------------+----------+\n",
      "|            features|label|       rawPrediction|         probability|prediction|\n",
      "+--------------------+-----+--------------------+--------------------+----------+\n",
      "|[0.0,0.0,17.33257...|  0.0|[2.86992839424032...|[0.95664279808010...|       0.0|\n",
      "|[0.0,0.0,17.51190...|  0.0|[2.27996534755964...|[0.75998844918654...|       0.0|\n",
      "|[0.0,0.0,17.51190...|  0.0|[2.86992839424032...|[0.95664279808010...|       0.0|\n",
      "|[0.0,0.0,18.01349...|  0.0|[2.86992839424032...|[0.95664279808010...|       0.0|\n",
      "|[0.0,0.0,18.04895...|  0.0|[2.86992839424032...|[0.95664279808010...|       0.0|\n",
      "+--------------------+-----+--------------------+--------------------+----------+\n",
      "only showing top 5 rows\n",
      "\n"
     ]
    }
   ],
   "source": [
    "predictions.select(*predictions.columns).show(n=5)"
   ]
  },
  {
   "cell_type": "code",
   "execution_count": 84,
   "metadata": {},
   "outputs": [
    {
     "data": {
      "text/plain": [
       "0.965504638264051"
      ]
     },
     "execution_count": 84,
     "metadata": {},
     "output_type": "execute_result"
    }
   ],
   "source": [
    "evaluator = BinaryClassificationEvaluator()\n",
    "evaluator.evaluate(predictions)#by default considers area under roc to evaluate"
   ]
  },
  {
   "cell_type": "code",
   "execution_count": 87,
   "metadata": {},
   "outputs": [
    {
     "data": {
      "text/plain": [
       "DataFrame[features: vector, label: float, rawPrediction: vector, probability: vector, prediction: double]"
      ]
     },
     "execution_count": 87,
     "metadata": {},
     "output_type": "execute_result"
    }
   ],
   "source": [
    "samp_predns = predictions.sample(False, .1)\n",
    "samp_predns"
   ]
  },
  {
   "cell_type": "code",
   "execution_count": 97,
   "metadata": {
    "collapsed": true
   },
   "outputs": [],
   "source": [
    "import numpy as np\n",
    "from sklearn import metrics\n",
    "predns = np.array(samp_predns.select(samp_predns.prediction).collect())"
   ]
  },
  {
   "cell_type": "code",
   "execution_count": 98,
   "metadata": {
    "collapsed": true
   },
   "outputs": [],
   "source": [
    "labels = np.array(samp_predns.select(samp_predns.label).collect())"
   ]
  },
  {
   "cell_type": "code",
   "execution_count": 99,
   "metadata": {
    "collapsed": true
   },
   "outputs": [],
   "source": [
    "fpr, tpr, thresholds = metrics.roc_curve(labels, predns)\n",
    "roc_auc = metrics.auc(fpr, tpr)"
   ]
  },
  {
   "cell_type": "code",
   "execution_count": 100,
   "metadata": {},
   "outputs": [
    {
     "data": {
      "image/png": "[encoded data removed]",
      "text/plain": [
       "<matplotlib.figure.Figure at 0x10e8ebe48>"
      ]
     },
     "metadata": {},
     "output_type": "display_data"
    }
   ],
   "source": [
    "import matplotlib.pyplot as plt\n",
    "plt.title('Area under ROC Curve')\n",
    "plt.plot(fpr, tpr, 'b', label = 'AUC = %0.2f' % roc_auc)\n",
    "plt.legend(loc = 'lower right')\n",
    "plt.plot([0, 1], [0, 1],'r--')\n",
    "plt.xlim([0, 1])\n",
    "plt.ylim([0, 1])\n",
    "plt.ylabel('True Positive Rate')\n",
    "plt.xlabel('False Positive Rate')\n",
    "plt.show()"
   ]
  },
  {
   "cell_type": "code",
   "execution_count": null,
   "metadata": {
    "collapsed": true
   },
   "outputs": [],
   "source": []
  }
 ],
 "metadata": {
  "kernelspec": {
   "display_name": "Python 3",
   "language": "python",
   "name": "python3"
  },
  "language_info": {
   "codemirror_mode": {
    "name": "ipython",
    "version": 3
   },
   "file_extension": ".py",
   "mimetype": "text/x-python",
   "name": "python",
   "nbconvert_exporter": "python",
   "pygments_lexer": "ipython3",
   "version": "3.6.3"
  }
 },
 "nbformat": 4,
 "nbformat_minor": 2
}
