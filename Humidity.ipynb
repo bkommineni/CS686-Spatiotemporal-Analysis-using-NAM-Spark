{
 "cells": [
  {
   "cell_type": "code",
   "execution_count": 1,
   "metadata": {},
   "outputs": [
    {
     "name": "stdout",
     "output_type": "stream",
     "text": [
      "Welcome to\n",
      "      ____              __\n",
      "     / __/__  ___ _____/ /__\n",
      "    _\\ \\/ _ \\/ _ `/ __/  '_/\n",
      "   /__ / .__/\\_,_/_/ /_/\\_\\   version 2.2.0\n",
      "      /_/\n",
      "\n",
      "Using Python version 3.6.3 (default, Oct  6 2017 12:04:38)\n",
      "SparkSession available as 'spark'.\n"
     ]
    }
   ],
   "source": [
    "from pyspark.sql.types import StructType, StructField, FloatType, LongType, StringType\n",
    "from pyspark.shell import spark\n",
    "\n",
    "feats = []\n",
    "f = open('features.txt')\n",
    "for line_num, line in enumerate(f):\n",
    "    if line_num == 0:\n",
    "        # Timestamp\n",
    "        feats.append(StructField(line.strip(), LongType(), True))\n",
    "    elif line_num == 1:\n",
    "        # Geohash\n",
    "        feats.append(StructField(line.strip(), StringType(), True))\n",
    "    else:\n",
    "        # Other features\n",
    "        feats.append(StructField(line.strip(), FloatType(), True))\n",
    "    \n",
    "schema = StructType(feats)"
   ]
  },
  {
   "cell_type": "code",
   "execution_count": 2,
   "metadata": {
    "collapsed": true
   },
   "outputs": [],
   "source": [
    "df = spark.read.format('csv').option('sep', '\\t').schema(schema).load('inputs/mini-sample.tdv.gz')"
   ]
  },
  {
   "cell_type": "code",
   "execution_count": 3,
   "metadata": {
    "collapsed": true
   },
   "outputs": [],
   "source": [
    "col_names = []\n",
    "for i in range(2,len(df.columns)):\n",
    "    col_names.append(df.columns[i])"
   ]
  },
  {
   "cell_type": "code",
   "execution_count": 4,
   "metadata": {
    "collapsed": true
   },
   "outputs": [],
   "source": [
    "from pyspark.ml.stat import Correlation\n",
    "from pyspark.ml.feature import VectorAssembler\n",
    "vectorAssembler = VectorAssembler(inputCols=col_names,\n",
    "                                  outputCol=\"features\")\n",
    "trans_features = vectorAssembler.transform(df)\n",
    "coeff = Correlation.corr(trans_features,'features',method='pearson').collect()[0][0]"
   ]
  },
  {
   "cell_type": "code",
   "execution_count": 5,
   "metadata": {
    "collapsed": true
   },
   "outputs": [],
   "source": [
    "mtrx = coeff.toArray()"
   ]
  },
  {
   "cell_type": "code",
   "execution_count": 6,
   "metadata": {
    "collapsed": true
   },
   "outputs": [],
   "source": [
    "list_corr_pairs_coeffs = []\n",
    "feature_pairs = []\n",
    "\n",
    "for i in range(0,56):\n",
    "    for j in range(0,56):\n",
    "        \n",
    "        if (i != j) and not(((col_names[i]+\"_\"+col_names[j]) in feature_pairs) or\n",
    "                         ((col_names[j]+\"_\"+col_names[i]) in feature_pairs)):\n",
    "            feature_pairs.append(col_names[i] +\"_\"+col_names[j])\n",
    "            corr_pair_coeff = []\n",
    "            corr_pair_coeff.append(col_names[i]+\" , \"+col_names[j])\n",
    "            corr_pair_coeff.append(col_names[i])\n",
    "            corr_pair_coeff.append(col_names[j])\n",
    "            corr_pair_coeff.append(float(mtrx[i][j]))\n",
    "            list_corr_pairs_coeffs.append(tuple(corr_pair_coeff))"
   ]
  },
  {
   "cell_type": "code",
   "execution_count": 7,
   "metadata": {
    "collapsed": true
   },
   "outputs": [],
   "source": [
    "df_corr_coeff_col_names = []\n",
    "df_corr_coeff_col_names.append(StructField(\"Feature_Pair\", StringType(), True))\n",
    "df_corr_coeff_col_names.append(StructField(\"Feature1\", StringType(), True))\n",
    "df_corr_coeff_col_names.append(StructField(\"Feature2\", StringType(), True))\n",
    "df_corr_coeff_col_names.append(StructField(\"Pearson_Coeff\", FloatType(), True))\n",
    "df_corr_coeff = spark.createDataFrame(list_corr_pairs_coeffs,StructType(df_corr_coeff_col_names))"
   ]
  },
  {
   "cell_type": "code",
   "execution_count": 8,
   "metadata": {},
   "outputs": [
    {
     "name": "stdout",
     "output_type": "stream",
     "text": [
      "+--------------------+--------------------+--------------------+-------------+\n",
      "|        Feature_Pair|            Feature1|            Feature2|Pearson_Coeff|\n",
      "+--------------------+--------------------+--------------------+-------------+\n",
      "|relative_humidity...|relative_humidity...| pressure_tropopause|   0.50406015|\n",
      "|relative_humidity...|relative_humidity...|temperature_tropo...|   0.45509925|\n",
      "|relative_humidity...|relative_humidity...|maximumcomposite_...|   0.44944143|\n",
      "|relative_humidity...|relative_humidity...|  snow_cover_surface|   0.35365328|\n",
      "|relative_humidity...|relative_humidity...|      albedo_surface|   0.31858346|\n",
      "|relative_humidity...|relative_humidity...|plant_canopy_surf...|    0.2979641|\n",
      "|relative_humidity...|relative_humidity...|categorical_rain_...|    0.2908854|\n",
      "|number_of_soil_la...|number_of_soil_la...|relative_humidity...|   0.25693217|\n",
      "|relative_humidity...|relative_humidity...|soil_porosity_sur...|   0.24705465|\n",
      "|relative_humidity...|relative_humidity...|land_cover_land1_...|   0.24705465|\n",
      "+--------------------+--------------------+--------------------+-------------+\n",
      "only showing top 10 rows\n",
      "\n"
     ]
    }
   ],
   "source": [
    "#relative_humidity_zerodegc_isotherm\n",
    "df_corr_coeff.where((df_corr_coeff.Feature1 == 'relative_humidity_zerodegc_isotherm') | \n",
    "                    (df_corr_coeff.Feature2 == 'relative_humidity_zerodegc_isotherm')\n",
    "                   ).sort(df_corr_coeff.Pearson_Coeff.desc()).show(n=10)"
   ]
  },
  {
   "cell_type": "code",
   "execution_count": 9,
   "metadata": {},
   "outputs": [
    {
     "name": "stdout",
     "output_type": "stream",
     "text": [
      "+--------------------+--------------------+--------------------+-------------+\n",
      "|        Feature_Pair|            Feature1|            Feature2|Pearson_Coeff|\n",
      "+--------------------+--------------------+--------------------+-------------+\n",
      "|relative_humidity...|relative_humidity...|geopotential_heig...|  -0.58565533|\n",
      "|relative_humidity...|relative_humidity...| temperature_surface|  -0.41653106|\n",
      "|relative_humidity...|relative_humidity...|upward_long_wave_...|   -0.3741724|\n",
      "|visibility_surfac...|  visibility_surface|relative_humidity...|   -0.3378231|\n",
      "|geopotential_heig...|geopotential_heig...|relative_humidity...|  -0.29624322|\n",
      "|relative_humidity...|relative_humidity...|downward_long_wav...|  -0.22544569|\n",
      "|relative_humidity...|relative_humidity...|    pressure_surface|  -0.20205103|\n",
      "|pressure_reduced_...|pressure_reduced_...|relative_humidity...|  -0.18637426|\n",
      "|relative_humidity...|relative_humidity...|mean_sea_level_pr...|  -0.18091883|\n",
      "|relative_humidity...|relative_humidity...|downward_short_wa...|  -0.16436581|\n",
      "+--------------------+--------------------+--------------------+-------------+\n",
      "only showing top 10 rows\n",
      "\n"
     ]
    }
   ],
   "source": [
    "#relative_humidity_zerodegc_isotherm\n",
    "df_corr_coeff.where((df_corr_coeff.Feature1 == 'relative_humidity_zerodegc_isotherm') | \n",
    "                    (df_corr_coeff.Feature2 == 'relative_humidity_zerodegc_isotherm')\n",
    "                   ).sort(df_corr_coeff.Pearson_Coeff.asc()).show(n=10)"
   ]
  },
  {
   "cell_type": "code",
   "execution_count": 12,
   "metadata": {},
   "outputs": [
    {
     "data": {
      "text/plain": [
       "[Row(Feature2='pressure_tropopause'),\n",
       " Row(Feature2='temperature_tropopause'),\n",
       " Row(Feature2='maximumcomposite_radar_reflectivity_entire_atmosphere'),\n",
       " Row(Feature2='snow_cover_surface'),\n",
       " Row(Feature2='albedo_surface'),\n",
       " Row(Feature2='plant_canopy_surface_water_surface'),\n",
       " Row(Feature2='categorical_rain_yes1_no0_surface'),\n",
       " Row(Feature2='relative_humidity_zerodegc_isotherm'),\n",
       " Row(Feature2='land_cover_land1_sea0_surface'),\n",
       " Row(Feature2='soil_porosity_surface')]"
      ]
     },
     "execution_count": 12,
     "metadata": {},
     "output_type": "execute_result"
    }
   ],
   "source": [
    "feature2 = df_corr_coeff.where((df_corr_coeff.Feature1 == 'relative_humidity_zerodegc_isotherm') | \n",
    "                    (df_corr_coeff.Feature2 == 'relative_humidity_zerodegc_isotherm')\n",
    "                   ).sort(df_corr_coeff.Pearson_Coeff.desc()).select(df_corr_coeff.Feature2)\n",
    "feature2.take(10)"
   ]
  },
  {
   "cell_type": "code",
   "execution_count": 13,
   "metadata": {},
   "outputs": [
    {
     "data": {
      "text/plain": [
       "[Row(Feature1='relative_humidity_zerodegc_isotherm'),\n",
       " Row(Feature1='relative_humidity_zerodegc_isotherm'),\n",
       " Row(Feature1='relative_humidity_zerodegc_isotherm'),\n",
       " Row(Feature1='relative_humidity_zerodegc_isotherm'),\n",
       " Row(Feature1='relative_humidity_zerodegc_isotherm'),\n",
       " Row(Feature1='relative_humidity_zerodegc_isotherm'),\n",
       " Row(Feature1='relative_humidity_zerodegc_isotherm'),\n",
       " Row(Feature1='number_of_soil_layers_in_root_zone_surface'),\n",
       " Row(Feature1='relative_humidity_zerodegc_isotherm'),\n",
       " Row(Feature1='relative_humidity_zerodegc_isotherm')]"
      ]
     },
     "execution_count": 13,
     "metadata": {},
     "output_type": "execute_result"
    }
   ],
   "source": [
    "feature1 = df_corr_coeff.where((df_corr_coeff.Feature1 == 'relative_humidity_zerodegc_isotherm') | \n",
    "                    (df_corr_coeff.Feature2 == 'relative_humidity_zerodegc_isotherm')\n",
    "                   ).sort(df_corr_coeff.Pearson_Coeff.desc()).select(df_corr_coeff.Feature1)\n",
    "feature1.take(10)"
   ]
  },
  {
   "cell_type": "code",
   "execution_count": 14,
   "metadata": {
    "collapsed": true
   },
   "outputs": [],
   "source": [
    "#pressure_tropopause\n",
    "#temperature_tropopause\n",
    "#maximumcomposite_radar_reflectivity_entire_atmosphere\n",
    "#snow_cover_surface\n",
    "#albedo_surface\n",
    "#plant_canopy_surface_water_surface\n",
    "#categorical_rain_yes1_no0_surface\n",
    "#land_cover_land1_sea0_surface\n",
    "#soil_porosity_surface"
   ]
  },
  {
   "cell_type": "code",
   "execution_count": 16,
   "metadata": {},
   "outputs": [
    {
     "name": "stdout",
     "output_type": "stream",
     "text": [
      "+--------------------+-----+\n",
      "|            features|label|\n",
      "+--------------------+-----+\n",
      "|(9,[0,1,2,4],[128...| 62.0|\n",
      "|[22776.14453125,2...| 88.0|\n",
      "|[30109.478515625,...| 74.0|\n",
      "|[23656.310546875,...| 77.0|\n",
      "|(9,[0,1,2,4],[103...|  3.0|\n",
      "|[35929.86328125,2...| 64.0|\n",
      "|(9,[0,1,2,4],[955...| 20.0|\n",
      "|[19234.021484375,...| 91.0|\n",
      "|(9,[0,1,2,4],[204...| 94.0|\n",
      "|(9,[0,1,2,4],[115...| 82.0|\n",
      "|[11434.021484375,...| 98.0|\n",
      "|(9,[0,1,2,4],[264...| 87.0|\n",
      "|[22614.12109375,2...| 97.0|\n",
      "|(9,[0,1,2,4],[114...| 75.0|\n",
      "|[32024.40234375,2...| 76.0|\n",
      "|[21624.40234375,2...| 38.0|\n",
      "|(9,[0,1,2,4],[166...| 65.0|\n",
      "|[34219.89453125,2...| 57.0|\n",
      "|[9206.98046875,19...|  8.0|\n",
      "|(9,[0,1,2,4],[247...| 96.0|\n",
      "+--------------------+-----+\n",
      "only showing top 20 rows\n",
      "\n"
     ]
    }
   ],
   "source": [
    "def prepare_data(dframe, predictors, target):\n",
    "    assembler = VectorAssembler(inputCols=predictors, outputCol=\"features\")\n",
    "    output = assembler.transform(dframe)\n",
    "    return output.select(\"features\", target).withColumnRenamed(target, \"label\")\n",
    "\n",
    "\n",
    "prepped = prepare_data(df,\n",
    "    [\"pressure_tropopause\", \n",
    "         \"temperature_tropopause\", \n",
    "         \"maximumcomposite_radar_reflectivity_entire_atmosphere\", \n",
    "         \"snow_cover_surface\",\n",
    "         \"albedo_surface\",\n",
    "         \"plant_canopy_surface_water_surface\",\n",
    "         \"categorical_rain_yes1_no0_surface\",\n",
    "         \"land_cover_land1_sea0_surface\",\n",
    "         \"soil_porosity_surface\"],\n",
    "    \"relative_humidity_zerodegc_isotherm\")\n",
    "\n",
    "prepped.show()\n",
    "(trainingData, testData) = prepped.randomSplit([0.9, 0.1])"
   ]
  },
  {
   "cell_type": "code",
   "execution_count": 22,
   "metadata": {},
   "outputs": [],
   "source": [
    "from pyspark.ml.regression import RandomForestRegressor\n",
    "from pyspark.ml.evaluation import RegressionEvaluator\n",
    "\n",
    "rf = RandomForestRegressor(numTrees=100, maxDepth=10, maxBins=32)\n",
    "model = rf.fit(trainingData)\n",
    "predictions = model.transform(testData)"
   ]
  },
  {
   "cell_type": "code",
   "execution_count": 23,
   "metadata": {},
   "outputs": [
    {
     "name": "stdout",
     "output_type": "stream",
     "text": [
      "Root Mean Squared Error (RMSE) on test data = 23.0501\n"
     ]
    }
   ],
   "source": [
    "evaluator = RegressionEvaluator(\n",
    "    labelCol=\"label\", predictionCol=\"prediction\", metricName=\"rmse\")\n",
    "rmse = evaluator.evaluate(predictions)\n",
    "print(\"Root Mean Squared Error (RMSE) on test data = %g\" % rmse)"
   ]
  },
  {
   "cell_type": "code",
   "execution_count": 17,
   "metadata": {},
   "outputs": [
    {
     "data": {
      "text/plain": [
       "DataFrame[features: vector, label: float, prediction: double]"
      ]
     },
     "execution_count": 17,
     "metadata": {},
     "output_type": "execute_result"
    }
   ],
   "source": [
    "samp_predns = predictions.sample(False, .1)\n",
    "samp_predns"
   ]
  },
  {
   "cell_type": "code",
   "execution_count": 18,
   "metadata": {},
   "outputs": [
    {
     "data": {
      "image/png": "[encoded data removed]",
      "text/plain": [
       "<matplotlib.figure.Figure at 0x108410f60>"
      ]
     },
     "metadata": {},
     "output_type": "display_data"
    }
   ],
   "source": [
    "import matplotlib.pyplot as plt\n",
    "\n",
    "p_df = samp_predns.select(\"label\", \"prediction\").toPandas()\n",
    "\n",
    "plt.suptitle('Random Forest Regressor', fontsize=16)\n",
    "\n",
    "minval = p_df[['label', 'prediction']].min().min()\n",
    "maxval = p_df[['label', 'prediction']].max().max()\n",
    "plt.axis([minval, maxval, minval, maxval])\n",
    "\n",
    "plt.plot(p_df['label'], p_df['prediction'], '.', color='#2ba5f1')\n",
    "plt.plot(range(int(minval), int(maxval)), range(int(minval), int(maxval)), lw=3, dashes=(10, 3), color='#000000', alpha=0.25, label='Ideal Predictor')\n",
    "plt.show()"
   ]
  },
  {
   "cell_type": "code",
   "execution_count": 21,
   "metadata": {},
   "outputs": [
    {
     "name": "stdout",
     "output_type": "stream",
     "text": [
      "+--------------------+-----+\n",
      "|            features|label|\n",
      "+--------------------+-----+\n",
      "|[6653.146484375,2...| 80.0|\n",
      "|[7142.98095703125...| 53.0|\n",
      "|[7142.98095703125...| 60.0|\n",
      "|[7142.98095703125...| 72.0|\n",
      "|[7142.98095703125...| 67.0|\n",
      "+--------------------+-----+\n",
      "only showing top 5 rows\n",
      "\n"
     ]
    }
   ],
   "source": [
    "trainingData.select(*trainingData.columns).show(n=5)"
   ]
  },
  {
   "cell_type": "code",
   "execution_count": 29,
   "metadata": {
    "collapsed": true
   },
   "outputs": [],
   "source": [
    "from pyspark.ml.regression import DecisionTreeRegressor\n",
    "from pyspark.ml.evaluation import RegressionEvaluator\n",
    "\n",
    "dt = DecisionTreeRegressor(featuresCol=\"features\",labelCol=\"label\",predictionCol=\"prediction\",maxDepth=5)\n",
    "model_dt = dt.fit(trainingData)"
   ]
  },
  {
   "cell_type": "code",
   "execution_count": 30,
   "metadata": {},
   "outputs": [
    {
     "data": {
      "text/plain": [
       "5"
      ]
     },
     "execution_count": 30,
     "metadata": {},
     "output_type": "execute_result"
    }
   ],
   "source": [
    "model.depth"
   ]
  },
  {
   "cell_type": "code",
   "execution_count": 31,
   "metadata": {},
   "outputs": [
    {
     "data": {
      "text/plain": [
       "63"
      ]
     },
     "execution_count": 31,
     "metadata": {},
     "output_type": "execute_result"
    }
   ],
   "source": [
    "model.numNodes"
   ]
  },
  {
   "cell_type": "code",
   "execution_count": 32,
   "metadata": {},
   "outputs": [
    {
     "name": "stdout",
     "output_type": "stream",
     "text": [
      "Root Mean Squared Error (RMSE) on test data = 24.6164\n"
     ]
    }
   ],
   "source": [
    "predictions_dt = model_dt.transform(testData)\n",
    "\n",
    "evaluator_dt = RegressionEvaluator(\n",
    "    labelCol=\"label\", predictionCol=\"prediction\", metricName=\"rmse\")\n",
    "rmse = evaluator_dt.evaluate(predictions_dt)\n",
    "print(\"Root Mean Squared Error (RMSE) on test data = %g\" % rmse)"
   ]
  },
  {
   "cell_type": "code",
   "execution_count": null,
   "metadata": {
    "collapsed": true
   },
   "outputs": [],
   "source": [
    "#pressure_tropopause\n",
    "#temperature_tropopause\n",
    "#geopotential_height_zerodegc_isotherm\n",
    "#temperature_surface\n",
    "\n",
    "#relative_humidity_zerodegc_isotherm - want "
   ]
  }
 ],
 "metadata": {
  "kernelspec": {
   "display_name": "Python 3",
   "language": "python",
   "name": "python3"
  },
  "language_info": {
   "codemirror_mode": {
    "name": "ipython",
    "version": 3
   },
   "file_extension": ".py",
   "mimetype": "text/x-python",
   "name": "python",
   "nbconvert_exporter": "python",
   "pygments_lexer": "ipython3",
   "version": "3.6.3"
  }
 },
 "nbformat": 4,
 "nbformat_minor": 2
}
