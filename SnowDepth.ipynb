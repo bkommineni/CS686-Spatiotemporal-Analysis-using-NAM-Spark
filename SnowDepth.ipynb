{
 "cells": [
  {
   "cell_type": "code",
   "execution_count": 1,
   "metadata": {},
   "outputs": [
    {
     "name": "stdout",
     "output_type": "stream",
     "text": [
      "Welcome to\n",
      "      ____              __\n",
      "     / __/__  ___ _____/ /__\n",
      "    _\\ \\/ _ \\/ _ `/ __/  '_/\n",
      "   /__ / .__/\\_,_/_/ /_/\\_\\   version 2.2.0\n",
      "      /_/\n",
      "\n",
      "Using Python version 3.6.3 (default, Oct  6 2017 12:04:38)\n",
      "SparkSession available as 'spark'.\n"
     ]
    }
   ],
   "source": [
    "from pyspark.sql.types import StructType, StructField, FloatType, LongType, StringType\n",
    "from pyspark.shell import spark\n",
    "\n",
    "feats = []\n",
    "f = open('features.txt')\n",
    "for line_num, line in enumerate(f):\n",
    "    if line_num == 0:\n",
    "        # Timestamp\n",
    "        feats.append(StructField(line.strip(), LongType(), True))\n",
    "    elif line_num == 1:\n",
    "        # Geohash\n",
    "        feats.append(StructField(line.strip(), StringType(), True))\n",
    "    else:\n",
    "        # Other features\n",
    "        feats.append(StructField(line.strip(), FloatType(), True))\n",
    "    \n",
    "schema = StructType(feats)"
   ]
  },
  {
   "cell_type": "code",
   "execution_count": 2,
   "metadata": {
    "collapsed": true
   },
   "outputs": [],
   "source": [
    "df = spark.read.format('csv').option('sep', '\\t').schema(schema).load('inputs/nam_2015*')"
   ]
  },
  {
   "cell_type": "code",
   "execution_count": 3,
   "metadata": {},
   "outputs": [
    {
     "name": "stdout",
     "output_type": "stream",
     "text": [
      "+------------+--------------------------+\n",
      "|     Geohash|avg_snow_depth_for_geohash|\n",
      "+------------+--------------------------+\n",
      "|c41xurr50ypb|        1.4427825378580033|\n",
      "|c1p5fmbjmkrz|        0.8555590688246522|\n",
      "|c1gyqex11wpb|        0.5148891935595334|\n",
      "+------------+--------------------------+\n",
      "\n"
     ]
    }
   ],
   "source": [
    "import pyspark.sql.functions as sf\n",
    "from pyspark.sql import Column as col\n",
    "snow_values = df.groupBy('Geohash').agg(sf.min(df.snow_depth_surface).alias(\"min_snow_depth_for_geohash\"),\n",
    "                                            sf.avg(df.snow_depth_surface).alias(\"avg_snow_depth_for_geohash\"))\n",
    "values_grtr_zero = snow_values.filter(snow_values.min_snow_depth_for_geohash > 0)\n",
    "sorted_values_grtr_zero = values_grtr_zero.sort(values_grtr_zero.avg_snow_depth_for_geohash.desc())\n",
    "sorted_values_grtr_zero.select(sorted_values_grtr_zero.Geohash,sorted_values_grtr_zero.avg_snow_depth_for_geohash).show(n=5)"
   ]
  },
  {
   "cell_type": "code",
   "execution_count": null,
   "metadata": {
    "collapsed": true
   },
   "outputs": [],
   "source": []
  }
 ],
 "metadata": {
  "kernelspec": {
   "display_name": "Python 3",
   "language": "python",
   "name": "python3"
  },
  "language_info": {
   "codemirror_mode": {
    "name": "ipython",
    "version": 3
   },
   "file_extension": ".py",
   "mimetype": "text/x-python",
   "name": "python",
   "nbconvert_exporter": "python",
   "pygments_lexer": "ipython3",
   "version": "3.6.3"
  }
 },
 "nbformat": 4,
 "nbformat_minor": 2
}
